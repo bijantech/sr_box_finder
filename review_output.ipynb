{
 "cells": [
  {
   "cell_type": "code",
   "execution_count": 1,
   "id": "4890318f",
   "metadata": {},
   "outputs": [],
   "source": [
    "# %load_ext autoreload\n",
    "%reload_ext autoreload\n",
    "%autoreload 2\n",
    "%matplotlib inline\n",
    "import pandas as pd\n",
    "from IPython.display import display, HTML\n",
    "\n",
    "SECTORS = ['Airlines', 'Biotech', 'Broker-Dealers & Securities Exchanges',\n",
    "       'Consumer Staples', 'Consumer', 'Cyber Security', 'DX', 'Energy',\n",
    "       'Finance', 'Financial Bull', 'Innovation', 'Insurance',\n",
    "       'Lithium & Battery Tech', 'Mobile Payments', 'Natural Gas',\n",
    "       'Oil & Gas Exploration', 'Oil Refiners', 'QQQ', 'Regional Banking',\n",
    "       'Retail', 'S&P 500 Bull', 'S&P Bear', 'Semiconductor', 'Social Media',\n",
    "       'Tech Software Sector', 'Technology', 'Transportation',\n",
    "       'U.S. Medical Devices', 'U.S. Real Estate', 'Utilities', 'XRT']\n",
    "\n",
    "ALL=\",\".join(SECTORS)\n",
    "\n",
    "SECTOR=\"Insurance\"\n",
    "TICKER=\"EHTH\"\n",
    "\n",
    "df = pd.read_csv('data/output.csv')\n",
    "df = df[df.sector == SECTOR]\n",
    "# df = df[df.symbol == TICKER]\n",
    "df.loc[:, 'img'] = df.outfile.apply(lambda x1: f'<img height=400 width=800 src=\"{x1}\" alt=\"img\">')\n",
    "# filter out no boxes\n",
    "# df = df[df.boxes.astype(str) != \"[]\"]\n",
    "# df = df[df.lastprice.notna()]"
   ]
  },
  {
   "cell_type": "code",
   "execution_count": 2,
   "id": "493b9051",
   "metadata": {},
   "outputs": [
    {
     "data": {
      "text/html": [
       "<style>div.output_scroll { height: 80em; }</style>"
      ],
      "text/plain": [
       "<IPython.core.display.HTML object>"
      ]
     },
     "metadata": {},
     "output_type": "display_data"
    },
    {
     "data": {
      "text/html": [
       "<table border=\"1\" class=\"dataframe\">\n",
       "  <thead>\n",
       "    <tr style=\"text-align: right;\">\n",
       "      <th>symbol</th>\n",
       "      <th>img</th>\n",
       "      <th>price_in_box</th>\n",
       "    </tr>\n",
       "  </thead>\n",
       "  <tbody>\n",
       "  </tbody>\n",
       "</table>"
      ],
      "text/plain": [
       "<IPython.core.display.HTML object>"
      ]
     },
     "metadata": {},
     "output_type": "display_data"
    }
   ],
   "source": [
    "display(HTML(\"<style>div.output_scroll { height: 80em; }</style>\"))\n",
    "display(HTML(df[['symbol', 'img', 'price_in_box']].to_html(index=False, escape=False)))"
   ]
  },
  {
   "cell_type": "code",
   "execution_count": null,
   "id": "23e9d916",
   "metadata": {},
   "outputs": [],
   "source": []
  }
 ],
 "metadata": {
  "kernelspec": {
   "display_name": "Python 3",
   "language": "python",
   "name": "python3"
  },
  "language_info": {
   "codemirror_mode": {
    "name": "ipython",
    "version": 3
   },
   "file_extension": ".py",
   "mimetype": "text/x-python",
   "name": "python",
   "nbconvert_exporter": "python",
   "pygments_lexer": "ipython3",
   "version": "3.8.11"
  }
 },
 "nbformat": 4,
 "nbformat_minor": 5
}
