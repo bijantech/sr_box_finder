{
 "cells": [
  {
   "cell_type": "code",
   "execution_count": 92,
   "id": "21101479",
   "metadata": {},
   "outputs": [],
   "source": [
    "# %load_ext autoreload\n",
    "%reload_ext autoreload\n",
    "%autoreload 2\n",
    "%matplotlib inline\n",
    "import pandas as pd\n",
    "from IPython.display import display, HTML\n",
    "\n",
    "SECTORS = ['Airlines', 'Biotech', 'Broker-Dealers & Securities Exchanges',\n",
    "       'Consumer Staples', 'Consumer', 'Cyber Security', 'DX', 'Energy',\n",
    "       'Finance', 'Financial Bull', 'Innovation', 'Insurance',\n",
    "       'Lithium & Battery Tech', 'Mobile Payments', 'Natural Gas',\n",
    "       'Oil & Gas Exploration', 'Oil Refiners', 'QQQ', 'Regional Banking',\n",
    "       'Retail', 'S&P 500 Bull', 'S&P Bear', 'Semiconductor', 'Social Media',\n",
    "       'Tech Software Sector', 'Technology', 'Transportation',\n",
    "       'U.S. Medical Devices', 'U.S. Real Estate', 'Utilities', 'XRT']\n",
    "\n",
    "ALL=\",\".join(SECTORS)\n",
    "\n",
    "SECTOR=\"Biotech\"\n",
    "\n",
    "df = pd.read_csv('data/output.csv')\n",
    "# df = df[df.sector == SECTOR]\n",
    "df.loc[:, 'img'] = df.outfile.apply(lambda x1: f'<img height=400 width=800 src=\"{x1}\" alt=\"img\">')\n",
    "\n",
    "# filter out no boxes\n",
    "df = df[df.boxes.astype(str) != \"[]\"]\n",
    "df = df[df.lastprice.notna()]"
   ]
  },
  {
   "cell_type": "code",
   "execution_count": 93,
   "id": "73f7accb",
   "metadata": {},
   "outputs": [],
   "source": [
    "df.loc[:, 'price_in_box'] = False\n",
    "\n",
    "def is_price_in_box(row):\n",
    "    x = df.iloc[0].boxes\n",
    "    [x := x.replace(char, \"\") for char in [\"[\", \"]\", \"(\", \")\"]]\n",
    "    x.split(\",\")\n",
    "df.loc[:', price_in_box'] = df.apply(lambda x: is_price_in_box(x))"
   ]
  },
  {
   "cell_type": "code",
   "execution_count": 94,
   "id": "493b9051",
   "metadata": {},
   "outputs": [
    {
     "data": {
      "text/html": [
       "<style>div.output_scroll { height: 80em; }</style>"
      ],
      "text/plain": [
       "<IPython.core.display.HTML object>"
      ]
     },
     "metadata": {},
     "output_type": "display_data"
    },
    {
     "data": {
      "text/html": [
       "<table border=\"1\" class=\"dataframe\">\n",
       "  <thead>\n",
       "    <tr style=\"text-align: right;\">\n",
       "      <th>sector</th>\n",
       "      <th>symbol</th>\n",
       "      <th>err</th>\n",
       "      <th>covered</th>\n",
       "      <th>lastprice</th>\n",
       "      <th>img</th>\n",
       "      <th>price_in_box</th>\n",
       "    </tr>\n",
       "  </thead>\n",
       "  <tbody>\n",
       "    <tr>\n",
       "      <td>NaN</td>\n",
       "      <td>TSLA</td>\n",
       "      <td>38.95486</td>\n",
       "      <td>0.740966</td>\n",
       "      <td>650.280029</td>\n",
       "      <td><img height=400 width=800 src=\"out/output/TSLA.png\" alt=\"img\"></td>\n",
       "      <td>False</td>\n",
       "    </tr>\n",
       "    <tr>\n",
       "      <td>NaN</td>\n",
       "      <td>MSFT</td>\n",
       "      <td>NaN</td>\n",
       "      <td>NaN</td>\n",
       "      <td>247.649994</td>\n",
       "      <td><img height=400 width=800 src=\"out/output/MSFT.png\" alt=\"img\"></td>\n",
       "      <td>False</td>\n",
       "    </tr>\n",
       "  </tbody>\n",
       "</table>"
      ],
      "text/plain": [
       "<IPython.core.display.HTML object>"
      ]
     },
     "metadata": {},
     "output_type": "display_data"
    }
   ],
   "source": [
    "display(HTML(\"<style>div.output_scroll { height: 80em; }</style>\"))\n",
    "display(HTML(df.drop(columns=['boxes', 'outfile']).to_html(index=False, escape=False)))"
   ]
  },
  {
   "cell_type": "code",
   "execution_count": null,
   "id": "2a397b44",
   "metadata": {},
   "outputs": [],
   "source": []
  }
 ],
 "metadata": {
  "kernelspec": {
   "display_name": "Python 3",
   "language": "python",
   "name": "python3"
  },
  "language_info": {
   "codemirror_mode": {
    "name": "ipython",
    "version": 3
   },
   "file_extension": ".py",
   "mimetype": "text/x-python",
   "name": "python",
   "nbconvert_exporter": "python",
   "pygments_lexer": "ipython3",
   "version": "3.8.11"
  }
 },
 "nbformat": 4,
 "nbformat_minor": 5
}
