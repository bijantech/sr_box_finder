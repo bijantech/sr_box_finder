{
 "cells": [
  {
   "cell_type": "code",
   "execution_count": 2,
   "id": "c66bfdaf-dd5f-4488-a3cf-ecfd3b7ff710",
   "metadata": {},
   "outputs": [],
   "source": [
    "import pandas as pd\n",
    "from pandas_datareader import data as pdr\n",
    "import numpy as np\n",
    "# pd.options.plotting.backend = \"plotly\"\n",
    "\n",
    "def calc_slope(x):\n",
    "    return np.polyfit(range(len(x)), x, 1)[0]\n",
    "start = \"2000-01-01\"\n",
    "end = \"2022-06-15\"\n",
    "symbols = [\"AAPL\"]\n",
    "ohlc = pdr.get_data_yahoo(symbols, start, end)\n",
    "\n",
    "ohlc.index = pd.to_datetime(ohlc.index)\n",
    "ohlc.columns = ohlc.columns.droplevel(1)\n",
    "\n",
    "ohlc['avg'] = ohlc['Close'].rolling(window=50).mean()\n",
    "ohlc['slope50'] = ohlc['Close'].rolling(50, min_periods=50).apply(calc_slope)\n",
    "ohlc['slope100'] = ohlc['Close'].rolling(100, min_periods=100).apply(calc_slope)\n",
    "ohlc['slope200'] = ohlc['Close'].rolling(200, min_periods=200).apply(calc_slope)\n",
    "ohlc['MA50'] = ohlc['Close'].rolling(window=50).mean()\n",
    "ohlc['MA100'] = ohlc['Close'].rolling(window=100).mean()\n",
    "ohlc['MA200'] = ohlc['Close'].rolling(window=200).mean()\n",
    "ohlc['slope50ma200'] = ohlc['slope50'].rolling(window=200).mean()\n",
    "ohlc['sl50b'] = ohlc.slope50ma200 < 0.5\n",
    "ohlc['sl100b'] = ohlc.slope100 < 0.5\n",
    "ohlc['sl200b'] = ohlc.slope200 < 0.5"
   ]
  },
  {
   "cell_type": "code",
   "execution_count": 3,
   "id": "c56e1308-c432-4ae0-adf2-0ed01f9dfc97",
   "metadata": {},
   "outputs": [],
   "source": [
    "ohlc.to_csv('data/aapl.csv')\n",
    "# ohlc = pd.read_csv('roku.csv', header=[0,1], index_col=[0])"
   ]
  },
  {
   "cell_type": "code",
   "execution_count": null,
   "id": "b24fc594-41f5-4eaf-8839-a5872a663ffb",
   "metadata": {},
   "outputs": [],
   "source": []
  }
 ],
 "metadata": {
  "kernelspec": {
   "display_name": "Python 3 (ipykernel)",
   "language": "python",
   "name": "python3"
  },
  "language_info": {
   "codemirror_mode": {
    "name": "ipython",
    "version": 3
   },
   "file_extension": ".py",
   "mimetype": "text/x-python",
   "name": "python",
   "nbconvert_exporter": "python",
   "pygments_lexer": "ipython3",
   "version": "3.8.11"
  }
 },
 "nbformat": 4,
 "nbformat_minor": 5
}
