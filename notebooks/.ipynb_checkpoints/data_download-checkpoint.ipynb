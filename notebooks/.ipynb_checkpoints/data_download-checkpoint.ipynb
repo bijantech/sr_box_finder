{
 "cells": [
  {
   "cell_type": "code",
   "execution_count": 10,
   "id": "0a96e589-aa95-4afd-b4e6-06ef5622250c",
   "metadata": {},
   "outputs": [
    {
     "name": "stdout",
     "output_type": "stream",
     "text": [
      "finished\n"
     ]
    }
   ],
   "source": [
    "import pandas as pd\n",
    "from pandas_datareader import data as pdr\n",
    "import numpy as np\n",
    "from os.path import exists\n",
    "\n",
    "symbols = [\"AAPL\", \"MSFT\", \"GOOGL\"]\n",
    "\n",
    "def download():\n",
    "    for symbol in symbols:\n",
    "        path_to_file = f'../data/{symbol}.csv'\n",
    "        if exists(path_to_file): continue\n",
    "        print(\"downloading\", path_to_file)\n",
    "        start = \"1980-01-01\"\n",
    "        end = \"2022-06-15\"\n",
    "        ohlc = pdr.get_data_yahoo(symbols, start, end)\n",
    "        ohlc.to_csv(path_to_file)\n",
    "        \n",
    "print(\"download symbols\", symbols)\n",
    "download()\n",
    "print(\"finished\")"
   ]
  },
  {
   "cell_type": "code",
   "execution_count": null,
   "id": "26098306-e4bc-41b4-947a-4e9cee3d7d71",
   "metadata": {},
   "outputs": [],
   "source": []
  }
 ],
 "metadata": {
  "kernelspec": {
   "display_name": "Python 3 (ipykernel)",
   "language": "python",
   "name": "python3"
  },
  "language_info": {
   "codemirror_mode": {
    "name": "ipython",
    "version": 3
   },
   "file_extension": ".py",
   "mimetype": "text/x-python",
   "name": "python",
   "nbconvert_exporter": "python",
   "pygments_lexer": "ipython3",
   "version": "3.8.11"
  }
 },
 "nbformat": 4,
 "nbformat_minor": 5
}
