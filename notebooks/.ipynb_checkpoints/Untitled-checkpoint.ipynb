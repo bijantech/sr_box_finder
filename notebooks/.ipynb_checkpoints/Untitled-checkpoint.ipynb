{
 "cells": [
  {
   "cell_type": "code",
   "execution_count": 8,
   "id": "e25e03b7-bea3-4989-ac52-b6ffdd34354b",
   "metadata": {},
   "outputs": [],
   "source": [
    "import pandas as pd\n",
    "import numpy as np"
   ]
  },
  {
   "cell_type": "code",
   "execution_count": 10,
   "id": "80ef5fab-70ca-4a39-a9f5-570881b16845",
   "metadata": {},
   "outputs": [],
   "source": [
    "from pandas_datareader import data as pdr\n",
    "import matplotlib.pyplot as plt\n",
    "import pandas as pd\n",
    "start = \"2018-01-01\"\n",
    "end = \"2021-01-01\"\n",
    "symbols = [\"AAPL\"]\n",
    "data = pdr.get_data_yahoo(symbols, start, end)"
   ]
  },
  {
   "cell_type": "code",
   "execution_count": 17,
   "id": "f3270a49-7e06-4fc4-bb59-abde8c76bc45",
   "metadata": {},
   "outputs": [],
   "source": [
    "df = data['Close']"
   ]
  },
  {
   "cell_type": "code",
   "execution_count": 7,
   "id": "94164340-f2ba-447d-b26e-12f19cbb8c94",
   "metadata": {},
   "outputs": [],
   "source": [
    "data = pd.DataFrame(np.random.rand(500, 1) * 10, columns=['a'])"
   ]
  },
  {
   "cell_type": "code",
   "execution_count": 3,
   "id": "d707cee1-1442-420b-8166-d0de99d0096e",
   "metadata": {},
   "outputs": [
    {
     "name": "stdout",
     "output_type": "stream",
     "text": [
      "            a\n",
      "0    1.529915\n",
      "1    3.680229\n",
      "2    9.923471\n",
      "3    0.244029\n",
      "4    7.294416\n",
      "..        ...\n",
      "495  5.088106\n",
      "496  8.973533\n",
      "497  1.903872\n",
      "498  5.181519\n",
      "499  8.208391\n",
      "\n",
      "[500 rows x 1 columns]\n"
     ]
    }
   ],
   "source": [
    "print(data)"
   ]
  },
  {
   "cell_type": "code",
   "execution_count": 21,
   "id": "b35cbf21-061a-4bac-bf26-f644f9cfabfe",
   "metadata": {},
   "outputs": [],
   "source": [
    "def calc_slope(x):\n",
    "    slope = np.polyfit(range(len(x)), x, 1)[0]\n",
    "    return slope\n",
    "\n",
    "# set min_periods=2 to allow subsets less than 60.\n",
    "# use [4::5] to select the results you need.\n",
    "result = df.rolling(60, min_periods=2).apply(calc_slope)[4::5]"
   ]
  },
  {
   "cell_type": "code",
   "execution_count": 19,
   "id": "a79c9ca2-32d3-4135-bf2b-ef104513f0ed",
   "metadata": {},
   "outputs": [
    {
     "name": "stdout",
     "output_type": "stream",
     "text": [
      "Symbols         AAPL\n",
      "Date                \n",
      "2018-01-08  0.173751\n",
      "2018-01-16  0.118924\n",
      "2018-01-23  0.113429\n",
      "2018-01-30 -0.033688\n",
      "2018-02-06 -0.129635\n",
      "...              ...\n",
      "2020-12-01  0.098176\n",
      "2020-12-08  0.145919\n",
      "2020-12-15  0.154388\n",
      "2020-12-22  0.182925\n",
      "2020-12-30  0.264836\n",
      "\n",
      "[151 rows x 1 columns]\n"
     ]
    }
   ],
   "source": [
    "print(result)"
   ]
  },
  {
   "cell_type": "code",
   "execution_count": 32,
   "id": "39a372b0-bba5-4864-8d66-24516f43d7bf",
   "metadata": {},
   "outputs": [
    {
     "name": "stdout",
     "output_type": "stream",
     "text": [
      "Requirement already satisfied: plotly in /Users/bijan/miniconda3/lib/python3.8/site-packages (5.8.2)\n",
      "Requirement already satisfied: tenacity>=6.2.0 in /Users/bijan/miniconda3/lib/python3.8/site-packages (from plotly) (8.0.1)\n",
      "Collecting chart_studio\n",
      "  Downloading chart_studio-1.1.0-py3-none-any.whl (64 kB)\n",
      "\u001b[2K     \u001b[38;2;114;156;31m━━━━━━━━━━━━━━━━━━━━━━━━━━━━━━━━━━━━━━━\u001b[0m \u001b[32m64.4/64.4 kB\u001b[0m \u001b[31m900.3 kB/s\u001b[0m eta \u001b[36m0:00:00\u001b[0m31m1.4 MB/s\u001b[0m eta \u001b[36m0:00:01\u001b[0m\n",
      "\u001b[?25hRequirement already satisfied: six in /Users/bijan/miniconda3/lib/python3.8/site-packages (from chart_studio) (1.12.0)\n",
      "Collecting retrying>=1.3.3\n",
      "  Downloading retrying-1.3.3.tar.gz (10 kB)\n",
      "  Preparing metadata (setup.py) ... \u001b[?25ldone\n",
      "\u001b[?25hRequirement already satisfied: requests in /Users/bijan/miniconda3/lib/python3.8/site-packages (from chart_studio) (2.27.1)\n",
      "Requirement already satisfied: plotly in /Users/bijan/miniconda3/lib/python3.8/site-packages (from chart_studio) (5.8.2)\n",
      "Requirement already satisfied: tenacity>=6.2.0 in /Users/bijan/miniconda3/lib/python3.8/site-packages (from plotly->chart_studio) (8.0.1)\n",
      "Requirement already satisfied: charset-normalizer~=2.0.0 in /Users/bijan/miniconda3/lib/python3.8/site-packages (from requests->chart_studio) (2.0.12)\n",
      "Requirement already satisfied: urllib3<1.27,>=1.21.1 in /Users/bijan/miniconda3/lib/python3.8/site-packages (from requests->chart_studio) (1.26.9)\n",
      "Requirement already satisfied: idna<4,>=2.5 in /Users/bijan/miniconda3/lib/python3.8/site-packages (from requests->chart_studio) (3.3)\n",
      "Requirement already satisfied: certifi>=2017.4.17 in /Users/bijan/miniconda3/lib/python3.8/site-packages (from requests->chart_studio) (2022.6.15)\n",
      "Building wheels for collected packages: retrying\n",
      "  Building wheel for retrying (setup.py) ... \u001b[?25ldone\n",
      "\u001b[?25h  Created wheel for retrying: filename=retrying-1.3.3-py3-none-any.whl size=9527 sha256=9552936c410baa8adbc39418cc1996399e752d0ddd94712e69b8f0d47a649bc9\n",
      "  Stored in directory: /Users/bijan/Library/Caches/pip/wheels/c4/a7/48/0a434133f6d56e878ca511c0e6c38326907c0792f67b476e56\n",
      "Successfully built retrying\n",
      "Installing collected packages: retrying, chart_studio\n",
      "Successfully installed chart_studio-1.1.0 retrying-1.3.3\n"
     ]
    }
   ],
   "source": [
    "!pip install plotly\n",
    "!pip install chart_studio"
   ]
  },
  {
   "cell_type": "code",
   "execution_count": 35,
   "id": "c62852a9-8fd8-41ac-85bb-e0c9e712ef6e",
   "metadata": {},
   "outputs": [],
   "source": [
    "import pandas as pd\n",
    "import matplotlib.pyplot as plt\n",
    "import numpy as np\n",
    "import math"
   ]
  },
  {
   "cell_type": "code",
   "execution_count": 1,
   "id": "5263ba62-fde6-4c35-82e7-64364514bbb5",
   "metadata": {},
   "outputs": [],
   "source": [
    "import matplotlib as mpl\n",
    "import matplotlib.pyplot as plt"
   ]
  },
  {
   "cell_type": "code",
   "execution_count": 2,
   "id": "d8c32275-b93d-40ab-b987-d858be01a492",
   "metadata": {},
   "outputs": [],
   "source": [
    "plt.style.use('classic')"
   ]
  },
  {
   "cell_type": "code",
   "execution_count": 3,
   "id": "09e3fe21-3e7c-41db-ad2f-ba62ebefed04",
   "metadata": {},
   "outputs": [
    {
     "data": {
      "image/png": "[encoded data removed]",
      "text/plain": [
       "<Figure size 432x288 with 1 Axes>"
      ]
     },
     "metadata": {
      "needs_background": "light"
     },
     "output_type": "display_data"
    }
   ],
   "source": [
    "import matplotlib.pyplot as plt\n",
    "import numpy as np\n",
    "\n",
    "x = np.linspace(0, 10, 100)\n",
    "\n",
    "plt.plot(x, np.sin(x))\n",
    "plt.plot(x, np.cos(x))\n",
    "\n",
    "plt.show()"
   ]
  },
  {
   "cell_type": "code",
   "execution_count": 4,
   "id": "97109473-b2a6-4933-898e-55b1ec1c4202",
   "metadata": {},
   "outputs": [
    {
     "name": "stdout",
     "output_type": "stream",
     "text": [
      "Using matplotlib backend: <object object at 0x1075b7770>\n"
     ]
    }
   ],
   "source": [
    "%matplotlib"
   ]
  },
  {
   "cell_type": "code",
   "execution_count": 5,
   "id": "e84e03fd-0bf4-4284-8fa4-414ebd5e69ed",
   "metadata": {},
   "outputs": [],
   "source": [
    "import matplotlib.pyplot as plt"
   ]
  },
  {
   "cell_type": "code",
   "execution_count": 6,
   "id": "e146977b-9807-4a6c-a427-5783f6a15358",
   "metadata": {},
   "outputs": [],
   "source": [
    "%matplotlib inline"
   ]
  },
  {
   "cell_type": "code",
   "execution_count": null,
   "id": "e6d62e99-75b0-45c1-834b-f9787b519c46",
   "metadata": {},
   "outputs": [],
   "source": []
  }
 ],
 "metadata": {
  "kernelspec": {
   "display_name": "Python 3 (ipykernel)",
   "language": "python",
   "name": "python3"
  },
  "language_info": {
   "codemirror_mode": {
    "name": "ipython",
    "version": 3
   },
   "file_extension": ".py",
   "mimetype": "text/x-python",
   "name": "python",
   "nbconvert_exporter": "python",
   "pygments_lexer": "ipython3",
   "version": "3.8.11"
  }
 },
 "nbformat": 4,
 "nbformat_minor": 5
}
