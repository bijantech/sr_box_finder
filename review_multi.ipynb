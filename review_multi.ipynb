{
 "cells": [
  {
   "cell_type": "code",
   "execution_count": 25,
   "id": "70355f7c-afcf-4b2e-9d21-3bb658121625",
   "metadata": {},
   "outputs": [
    {
     "name": "stdout",
     "output_type": "stream",
     "text": [
      "The autoreload extension is already loaded. To reload it, use:\n",
      "  %reload_ext autoreload\n"
     ]
    },
    {
     "data": {
      "text/html": [
       "<table border=\"1\" class=\"dataframe\">\n",
       "  <thead>\n",
       "    <tr style=\"text-align: right;\">\n",
       "      <th>symbol</th>\n",
       "      <th>dif</th>\n",
       "      <th>ret</th>\n",
       "      <th>num</th>\n",
       "      <th>err</th>\n",
       "      <th>img</th>\n",
       "      <th>source</th>\n",
       "    </tr>\n",
       "  </thead>\n",
       "  <tbody>\n",
       "    <tr>\n",
       "      <td>ZM</td>\n",
       "      <td>16</td>\n",
       "      <td>5</td>\n",
       "      <td>2</td>\n",
       "      <td>7.559327</td>\n",
       "      <td><img height=400 width=800 src=\"out/ZM/-d 16 -r 5.png\" alt=\"img\"></td>\n",
       "      <td><img height=400 width=800 src=\"data/samples/ZM.png\" alt=\"img\"></td>\n",
       "    </tr>\n",
       "    <tr>\n",
       "      <td>UPWK</td>\n",
       "      <td>1</td>\n",
       "      <td>5</td>\n",
       "      <td>2</td>\n",
       "      <td>4.033236</td>\n",
       "      <td><img height=400 width=800 src=\"out/UPWK/-d 1 -r 5.png\" alt=\"img\"></td>\n",
       "      <td><img height=400 width=800 src=\"data/samples/UPWK.png\" alt=\"img\"></td>\n",
       "    </tr>\n",
       "    <tr>\n",
       "      <td>TSLA</td>\n",
       "      <td>1</td>\n",
       "      <td>5</td>\n",
       "      <td>2</td>\n",
       "      <td>3.658432</td>\n",
       "      <td><img height=400 width=800 src=\"out/TSLA/-d 1 -r 5.png\" alt=\"img\"></td>\n",
       "      <td><img height=400 width=800 src=\"data/samples/TSLA.png\" alt=\"img\"></td>\n",
       "    </tr>\n",
       "    <tr>\n",
       "      <td>SHOP</td>\n",
       "      <td>1</td>\n",
       "      <td>5</td>\n",
       "      <td>2</td>\n",
       "      <td>2.111288</td>\n",
       "      <td><img height=400 width=800 src=\"out/SHOP/-d 1 -r 5.png\" alt=\"img\"></td>\n",
       "      <td><img height=400 width=800 src=\"data/samples/SHOP.png\" alt=\"img\"></td>\n",
       "    </tr>\n",
       "    <tr>\n",
       "      <td>ROKU</td>\n",
       "      <td>1</td>\n",
       "      <td>5</td>\n",
       "      <td>2</td>\n",
       "      <td>8.348492</td>\n",
       "      <td><img height=400 width=800 src=\"out/ROKU/-d 1 -r 5.png\" alt=\"img\"></td>\n",
       "      <td><img height=400 width=800 src=\"data/samples/ROKU.png\" alt=\"img\"></td>\n",
       "    </tr>\n",
       "    <tr>\n",
       "      <td>ARKK</td>\n",
       "      <td>1</td>\n",
       "      <td>5</td>\n",
       "      <td>2</td>\n",
       "      <td>9.268253</td>\n",
       "      <td><img height=400 width=800 src=\"out/ARKK/-d 1 -r 5.png\" alt=\"img\"></td>\n",
       "      <td><img height=400 width=800 src=\"data/samples/ARKK.png\" alt=\"img\"></td>\n",
       "    </tr>\n",
       "  </tbody>\n",
       "</table>"
      ],
      "text/plain": [
       "<IPython.core.display.HTML object>"
      ]
     },
     "metadata": {},
     "output_type": "display_data"
    }
   ],
   "source": [
    "%load_ext autoreload\n",
    "%autoreload 2\n",
    "%matplotlib inline\n",
    "import pandas as pd\n",
    "from IPython.display import display, HTML\n",
    "df = pd.read_csv('data/samples.csv')\n",
    "gdf = df.groupby('symbol')[['err']].min()\n",
    "gdf.reset_index().merge(df)\n",
    "x = pd.merge(df, gdf, left_on=['symbol', 'err'], right_on=['symbol', 'err'])\n",
    "gdf\n",
    "x\n",
    "x.loc[:, 'img'] = x.outfile.apply(lambda x1: f'<img height=400 width=800 src=\"{x1}\" alt=\"img\">')\n",
    "x.loc[:, 'source'] = x.symbol.apply(lambda x1: f'<img height=400 width=800 src=\"data/samples/{x1}.png\" alt=\"img\">')\n",
    "display(HTML(x.drop(columns=['outfile']).to_html(index=False, escape=False)))"
   ]
  }
 ],
 "metadata": {
  "kernelspec": {
   "display_name": "Python 3",
   "language": "python",
   "name": "python3"
  },
  "language_info": {
   "codemirror_mode": {
    "name": "ipython",
    "version": 3
   },
   "file_extension": ".py",
   "mimetype": "text/x-python",
   "name": "python",
   "nbconvert_exporter": "python",
   "pygments_lexer": "ipython3",
   "version": "3.8.11"
  }
 },
 "nbformat": 4,
 "nbformat_minor": 5
}
