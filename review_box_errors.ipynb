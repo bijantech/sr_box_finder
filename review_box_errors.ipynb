{
 "cells": [
  {
   "cell_type": "code",
   "execution_count": 60,
   "id": "43ab2ddf",
   "metadata": {},
   "outputs": [
    {
     "name": "stdout",
     "output_type": "stream",
     "text": [
      "The autoreload extension is already loaded. To reload it, use:\n",
      "  %reload_ext autoreload\n"
     ]
    }
   ],
   "source": [
    "import pandas as pd\n",
    "from IPython.display import display, HTML\n",
    "%load_ext autoreload\n",
    "%autoreload 2"
   ]
  },
  {
   "cell_type": "code",
   "execution_count": null,
   "id": "abd2ab8f",
   "metadata": {},
   "outputs": [
    {
     "name": "stdout",
     "output_type": "stream",
     "text": [
      "[*********************100%***********************]  1 of 1 completed\n"
     ]
    }
   ],
   "source": [
    "from sr_cli import run\n",
    "class Args:\n",
    "    no_sr_lines = False\n",
    "    ticker='SHOP'\n",
    "    period='5y'\n",
    "    interval='1d'\n",
    "    start_date='2021-11-01'\n",
    "    stop_date='2022-06-18'\n",
    "    retracement_size=5\n",
    "    dif=10.0\n",
    "    no_candles=False\n",
    "    draw_boxes=True\n",
    "    empty_boxes=False\n",
    "    sample_only=False\n",
    "    show_zags=False\n",
    "    min=10\n",
    "    optimize=True\n",
    "    time=365\n",
    "    verbose=False\n",
    "\n",
    "args=Args()\n",
    "run(args)"
   ]
  },
  {
   "cell_type": "code",
   "execution_count": null,
   "id": "7615c553",
   "metadata": {},
   "outputs": [],
   "source": [
    "df = pd.read_csv('data/samples.csv')\n",
    "df = df[df.symbol == args.ticker]\n",
    "from IPython.display import Image, display    \n",
    "display(Image(f'data/samples/{args.ticker}.png', height=400, width=550))"
   ]
  },
  {
   "cell_type": "code",
   "execution_count": null,
   "id": "76afe43a",
   "metadata": {},
   "outputs": [],
   "source": [
    "df.loc[:, 'img'] = df.outfile.apply(lambda x: f'<img height=400 width=800 src=\"{x}\" alt=\"img\">')\n",
    "display(HTML(\"<style>div.output_scroll { height: 50em; }</style>\"))\n",
    "sortdf = df[['dif', 'ret', 'err', 'img']].sort_values(by=['err'])\n",
    "display(HTML(sortdf.to_html(index=False, escape=False)))"
   ]
  },
  {
   "cell_type": "code",
   "execution_count": null,
   "id": "8b741a44",
   "metadata": {},
   "outputs": [],
   "source": []
  }
 ],
 "metadata": {
  "kernelspec": {
   "display_name": "Python 3 (ipykernel)",
   "language": "python",
   "name": "python3"
  },
  "language_info": {
   "codemirror_mode": {
    "name": "ipython",
    "version": 3
   },
   "file_extension": ".py",
   "mimetype": "text/x-python",
   "name": "python",
   "nbconvert_exporter": "python",
   "pygments_lexer": "ipython3",
   "version": "3.8.11"
  }
 },
 "nbformat": 4,
 "nbformat_minor": 5
}
