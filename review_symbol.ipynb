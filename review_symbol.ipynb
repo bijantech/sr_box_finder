{
 "cells": [
  {
   "cell_type": "code",
   "execution_count": null,
   "id": "a30cca65-f8de-4ac5-9410-56029c4a91ac",
   "metadata": {},
   "outputs": [
    {
     "name": "stdout",
     "output_type": "stream",
     "text": [
      "['UPWK']\n",
      "[*********************100%***********************]  1 of 1 completed\n",
      "\n",
      "UPWK\n"
     ]
    },
    {
     "data": {
      "application/vnd.jupyter.widget-view+json": {
       "model_id": "6253a2ea1f3a4890af67217bfab099be",
       "version_major": 2,
       "version_minor": 0
      },
      "text/plain": [
       "  0%|          | 0/580 [00:00<?, ?it/s]"
      ]
     },
     "metadata": {},
     "output_type": "display_data"
    }
   ],
   "source": [
    "%reload_ext autoreload\n",
    "%autoreload 2\n",
    "%matplotlib inline\n",
    "import pandas as pd\n",
    "from IPython.display import display, HTML\n",
    "from sr_cli import run\n",
    "\n",
    "\n",
    "# TICKERS=['ARKK', 'ROKU', 'SHOP', 'TSLA', 'UPWK', 'ZM']\n",
    "TICKER = 'UPWK'\n",
    "  \n",
    "class Args:\n",
    "    no_sr_lines = False\n",
    "    tickers=TICKER\n",
    "    period='5y'\n",
    "    interval='1d'\n",
    "    start_date='2021-11-01'\n",
    "    stop_date='2022-06-17'\n",
    "    dif=10.0\n",
    "    retracement_size=5\n",
    "    no_candles=True\n",
    "    draw_boxes=True\n",
    "    number=2\n",
    "    empty_boxes=False\n",
    "    sample_only=False\n",
    "    show_zags=False\n",
    "    min=10\n",
    "    optimize=False\n",
    "    time=365\n",
    "    verbose=False\n",
    "    filter=False\n",
    "    side_by_side=False\n",
    "\n",
    "args=Args()\n",
    "args.optimize = True\n",
    "run(args)\n",
    "\n",
    "from IPython.display import Image, display\n",
    "display(Image(f\"data/orig/{TICKER}.png\"))"
   ]
  },
  {
   "cell_type": "code",
   "execution_count": null,
   "id": "a031b34b-9ff2-4f5b-907e-52c6c0635650",
   "metadata": {},
   "outputs": [],
   "source": [
    "df = pd.read_csv('data/samples.csv')\n",
    "df = df[df.symbol == TICKER]\n",
    "sfile = f\"data/samples/{TICKER}.png\"\n",
    "df.loc[:, 'source'] = f'<img height=400 width=800 src=\"out/samples/{TICKER}.png\" alt=\"img2\">'\n",
    "df.loc[:, 'img'] = df.outfile.apply(lambda x:  f'<img height=400 width=800 src=\"{x}\" alt=\"img\">')\n",
    "display(HTML(\"<style>div.output_scroll { height: 80em; }</style>\"))\n",
    "sortdf = df[['symbol', 'dif', 'ret', 'err', 'img', 'source']].sort_values(by=['dif'])\n",
    "# sortdf = sortdf[sortdf.err < 30]\n",
    "sortdf = sortdf[sortdf.ret < 15]\n",
    "sortdf = sortdf[sortdf.dif < 15]\n",
    "display(HTML(sortdf.to_html(index=False, escape=False)))\n",
    "\n",
    "# df.loc[:, 'source'] = f'<img height=400 width=800 src=\"{sfile}\" alt=\"img2\">'\n",
    "# df.loc[:, 'img'] = df.outfile.apply(lambda x:  f'<img height=400 width=800 src=\"{x}\" alt=\"img\">')\n",
    "# sortdf = sortdf[(sortdf.dif >= 10.0) & (sortdf.ret == 5.0)]"
   ]
  }
 ],
 "metadata": {
  "kernelspec": {
   "display_name": "Python 3",
   "language": "python",
   "name": "python3"
  },
  "language_info": {
   "codemirror_mode": {
    "name": "ipython",
    "version": 3
   },
   "file_extension": ".py",
   "mimetype": "text/x-python",
   "name": "python",
   "nbconvert_exporter": "python",
   "pygments_lexer": "ipython3",
   "version": "3.8.11"
  }
 },
 "nbformat": 4,
 "nbformat_minor": 5
}
