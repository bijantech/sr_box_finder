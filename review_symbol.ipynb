{
 "cells": [
  {
   "cell_type": "code",
   "execution_count": 15,
   "id": "a30cca65-f8de-4ac5-9410-56029c4a91ac",
   "metadata": {},
   "outputs": [
    {
     "name": "stdout",
     "output_type": "stream",
     "text": [
      "['UPWK']\n",
      "[*********************100%***********************]  1 of 1 completed\n",
      "\n",
      "UPWK\n"
     ]
    },
    {
     "data": {
      "application/vnd.jupyter.widget-view+json": {
       "model_id": "8f436b5577e94bd488e5856d034ff74e",
       "version_major": 2,
       "version_minor": 0
      },
      "text/plain": [
       "  0%|          | 0/70 [00:00<?, ?it/s]"
      ]
     },
     "metadata": {},
     "output_type": "display_data"
    }
   ],
   "source": [
    "%reload_ext autoreload\n",
    "%autoreload 2\n",
    "%matplotlib inline\n",
    "import pandas as pd\n",
    "from IPython.display import display, HTML\n",
    "from sr_cli import run\n",
    "\n",
    "# TICKERS=['ARKK', 'ROKU', 'SHOP', 'TSLA', 'UPWK', 'ZM']\n",
    "  \n",
    "class Args:\n",
    "    show_candles=True\n",
    "    tickers=['HTLD']\n",
    "    side_by_side=False\n",
    "    color=True\n",
    "    no_sr_lines = False\n",
    "    show_zags=True\n",
    "    period='5y'\n",
    "    interval='1d'\n",
    "    start_date='2021-11-01'\n",
    "    stop_date='2022-06-17'\n",
    "    dif=7.0\n",
    "    retracement_size=5\n",
    "    rets=range(5,10)\n",
    "    diffs=range(1,15)\n",
    "    nums=[2]\n",
    "    number=2\n",
    "    no_boxes=False\n",
    "    empty_boxes=False\n",
    "    sample_only=False\n",
    "    min=10\n",
    "    optimize=False\n",
    "    time=365\n",
    "    verbose=False\n",
    "    filter=False\n",
    "\n",
    "args=Args()\n",
    "args.optimize = True\n",
    "# for ticker in TICKERS:\n",
    "args.tickers = TICKER\n",
    "run(args)\n",
    "\n",
    "# from IPython.display import Image, display\n",
    "# display(Image(f\"data/orig/{TICKER}.png\"))"
   ]
  },
  {
   "cell_type": "code",
   "execution_count": 16,
   "id": "a031b34b-9ff2-4f5b-907e-52c6c0635650",
   "metadata": {},
   "outputs": [
    {
     "data": {
      "text/html": [
       "<style>div.output_scroll { height: 80em; }</style>"
      ],
      "text/plain": [
       "<IPython.core.display.HTML object>"
      ]
     },
     "metadata": {},
     "output_type": "display_data"
    },
    {
     "data": {
      "text/html": [
       "<table border=\"1\" class=\"dataframe\">\n",
       "  <thead>\n",
       "    <tr style=\"text-align: right;\">\n",
       "      <th>symbol</th>\n",
       "      <th>dif</th>\n",
       "      <th>ret</th>\n",
       "      <th>err</th>\n",
       "      <th>covered</th>\n",
       "      <th>img</th>\n",
       "      <th>source</th>\n",
       "    </tr>\n",
       "  </thead>\n",
       "  <tbody>\n",
       "    <tr>\n",
       "      <td>UPWK</td>\n",
       "      <td>4</td>\n",
       "      <td>5</td>\n",
       "      <td>19.494248</td>\n",
       "      <td>0.814815</td>\n",
       "      <td><img height=400 width=800 src=\"out/UPWK/-d 4 -r 5.png\" alt=\"img\"></td>\n",
       "      <td><img height=400 width=800 src=\"out/samples/UPWK.png\" alt=\"img2\"></td>\n",
       "    </tr>\n",
       "    <tr>\n",
       "      <td>UPWK</td>\n",
       "      <td>10</td>\n",
       "      <td>5</td>\n",
       "      <td>24.193083</td>\n",
       "      <td>0.804727</td>\n",
       "      <td><img height=400 width=800 src=\"out/UPWK/-d 10 -r 5.png\" alt=\"img\"></td>\n",
       "      <td><img height=400 width=800 src=\"out/samples/UPWK.png\" alt=\"img2\"></td>\n",
       "    </tr>\n",
       "    <tr>\n",
       "      <td>UPWK</td>\n",
       "      <td>11</td>\n",
       "      <td>5</td>\n",
       "      <td>16.290538</td>\n",
       "      <td>0.804727</td>\n",
       "      <td><img height=400 width=800 src=\"out/UPWK/-d 11 -r 5.png\" alt=\"img\"></td>\n",
       "      <td><img height=400 width=800 src=\"out/samples/UPWK.png\" alt=\"img2\"></td>\n",
       "    </tr>\n",
       "    <tr>\n",
       "      <td>UPWK</td>\n",
       "      <td>9</td>\n",
       "      <td>5</td>\n",
       "      <td>27.514103</td>\n",
       "      <td>0.743809</td>\n",
       "      <td><img height=400 width=800 src=\"out/UPWK/-d 9 -r 5.png\" alt=\"img\"></td>\n",
       "      <td><img height=400 width=800 src=\"out/samples/UPWK.png\" alt=\"img2\"></td>\n",
       "    </tr>\n",
       "    <tr>\n",
       "      <td>UPWK</td>\n",
       "      <td>8</td>\n",
       "      <td>5</td>\n",
       "      <td>31.003491</td>\n",
       "      <td>0.694991</td>\n",
       "      <td><img height=400 width=800 src=\"out/UPWK/-d 8 -r 5.png\" alt=\"img\"></td>\n",
       "      <td><img height=400 width=800 src=\"out/samples/UPWK.png\" alt=\"img2\"></td>\n",
       "    </tr>\n",
       "    <tr>\n",
       "      <td>UPWK</td>\n",
       "      <td>5</td>\n",
       "      <td>5</td>\n",
       "      <td>22.339147</td>\n",
       "      <td>0.694991</td>\n",
       "      <td><img height=400 width=800 src=\"out/UPWK/-d 5 -r 5.png\" alt=\"img\"></td>\n",
       "      <td><img height=400 width=800 src=\"out/samples/UPWK.png\" alt=\"img2\"></td>\n",
       "    </tr>\n",
       "    <tr>\n",
       "      <td>UPWK</td>\n",
       "      <td>6</td>\n",
       "      <td>5</td>\n",
       "      <td>26.653287</td>\n",
       "      <td>0.694991</td>\n",
       "      <td><img height=400 width=800 src=\"out/UPWK/-d 6 -r 5.png\" alt=\"img\"></td>\n",
       "      <td><img height=400 width=800 src=\"out/samples/UPWK.png\" alt=\"img2\"></td>\n",
       "    </tr>\n",
       "    <tr>\n",
       "      <td>UPWK</td>\n",
       "      <td>7</td>\n",
       "      <td>5</td>\n",
       "      <td>20.792951</td>\n",
       "      <td>0.694991</td>\n",
       "      <td><img height=400 width=800 src=\"out/UPWK/-d 7 -r 5.png\" alt=\"img\"></td>\n",
       "      <td><img height=400 width=800 src=\"out/samples/UPWK.png\" alt=\"img2\"></td>\n",
       "    </tr>\n",
       "    <tr>\n",
       "      <td>UPWK</td>\n",
       "      <td>3</td>\n",
       "      <td>5</td>\n",
       "      <td>32.722123</td>\n",
       "      <td>0.592593</td>\n",
       "      <td><img height=400 width=800 src=\"out/UPWK/-d 3 -r 5.png\" alt=\"img\"></td>\n",
       "      <td><img height=400 width=800 src=\"out/samples/UPWK.png\" alt=\"img2\"></td>\n",
       "    </tr>\n",
       "  </tbody>\n",
       "</table>"
      ],
      "text/plain": [
       "<IPython.core.display.HTML object>"
      ]
     },
     "metadata": {},
     "output_type": "display_data"
    }
   ],
   "source": [
    "df = pd.read_csv('data/samples.csv')\n",
    "df = df[df.symbol == TICKER]\n",
    "sfile = f\"data/samples/{TICKER}.png\"\n",
    "df.loc[:, 'source'] = f'<img height=400 width=800 src=\"out/samples/{TICKER}.png\" alt=\"img2\">'\n",
    "df.loc[:, 'img'] = df.outfile.apply(lambda x:  f'<img height=400 width=800 src=\"{x}\" alt=\"img\">')\n",
    "display(HTML(\"<style>div.output_scroll { height: 80em; }</style>\"))\n",
    "sortdf = df[['symbol', 'dif', 'ret', 'err', 'covered', 'img', 'source']].sort_values(by=['covered'], ascending=[False])\n",
    "# sortdf = sortdf[sortdf.err < 30]\n",
    "sortdf = sortdf[sortdf.ret == 5]\n",
    "sortdf = sortdf[sortdf.dif < 12]\n",
    "# sortdf = sortdf[sortdf.err < 60]\n",
    "sortdf = sortdf[sortdf.covered > .5]\n",
    "display(HTML(sortdf.to_html(index=False, escape=False)))\n",
    "\n",
    "# df.loc[:, 'source'] = f'<img height=400 width=800 src=\"{sfile}\" alt=\"img2\">'\n",
    "# df.loc[:, 'img'] = df.outfile.apply(lambda x:  f'<img height=400 width=800 src=\"{x}\" alt=\"img\">')\n",
    "# sortdf = sortdf[(sortdf.dif >= 10.0) & (sortdf.ret == 5.0)]"
   ]
  },
  {
   "cell_type": "code",
   "execution_count": null,
   "id": "e7192066",
   "metadata": {},
   "outputs": [],
   "source": []
  }
 ],
 "metadata": {
  "kernelspec": {
   "display_name": "Python 3",
   "language": "python",
   "name": "python3"
  },
  "language_info": {
   "codemirror_mode": {
    "name": "ipython",
    "version": 3
   },
   "file_extension": ".py",
   "mimetype": "text/x-python",
   "name": "python",
   "nbconvert_exporter": "python",
   "pygments_lexer": "ipython3",
   "version": "3.8.11"
  }
 },
 "nbformat": 4,
 "nbformat_minor": 5
}
