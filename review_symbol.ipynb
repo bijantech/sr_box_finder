{
 "cells": [
  {
   "cell_type": "code",
   "execution_count": 76,
   "id": "a30cca65-f8de-4ac5-9410-56029c4a91ac",
   "metadata": {},
   "outputs": [
    {
     "name": "stdout",
     "output_type": "stream",
     "text": [
      "['TSLA']\n",
      "[*********************100%***********************]  1 of 1 completed\n",
      "\n",
      "TSLA\n",
      "overlap 16 143.70000000000005 2299.2000000000007\n"
     ]
    },
    {
     "data": {
      "application/vnd.jupyter.widget-view+json": {
       "model_id": "829ecbee33704293b0837188c790e92a",
       "version_major": 2,
       "version_minor": 0
      },
      "text/plain": [
       "  0%|          | 0/580 [00:00<?, ?it/s]"
      ]
     },
     "metadata": {},
     "output_type": "display_data"
    },
    {
     "name": "stdout",
     "output_type": "stream",
     "text": [
      "overlap 0 0 0\n",
      "overlap 0 8.49501342773442 0.0\n",
      "overlap 0 0 0\n",
      "overlap 6 46.110015869140625 276.66009521484375\n",
      "overlap 0 0 0\n",
      "overlap 6 46.110015869140625 276.66009521484375\n",
      "overlap 0 0 0\n",
      "overlap 6 46.110015869140625 276.66009521484375\n",
      "overlap 6 46.110015869140625 276.66009521484375\n"
     ]
    },
    {
     "ename": "UnboundLocalError",
     "evalue": "local variable 'sample_boxes' referenced before assignment",
     "output_type": "error",
     "traceback": [
      "\u001b[0;31m---------------------------------------------------------------------------\u001b[0m",
      "\u001b[0;31mUnboundLocalError\u001b[0m                         Traceback (most recent call last)",
      "Input \u001b[0;32mIn [76]\u001b[0m, in \u001b[0;36m<cell line: 36>\u001b[0;34m()\u001b[0m\n\u001b[1;32m     33\u001b[0m args\u001b[38;5;241m=\u001b[39mArgs()\n\u001b[1;32m     34\u001b[0m args\u001b[38;5;241m.\u001b[39moptimize \u001b[38;5;241m=\u001b[39m \u001b[38;5;28;01mTrue\u001b[39;00m\n\u001b[0;32m---> 36\u001b[0m \u001b[43mrun\u001b[49m\u001b[43m(\u001b[49m\u001b[43margs\u001b[49m\u001b[43m)\u001b[49m\n\u001b[1;32m     38\u001b[0m \u001b[38;5;28;01mfrom\u001b[39;00m \u001b[38;5;21;01mIPython\u001b[39;00m\u001b[38;5;21;01m.\u001b[39;00m\u001b[38;5;21;01mdisplay\u001b[39;00m \u001b[38;5;28;01mimport\u001b[39;00m Image, display\n\u001b[1;32m     39\u001b[0m display(Image(\u001b[38;5;124mf\u001b[39m\u001b[38;5;124m\"\u001b[39m\u001b[38;5;124mdata/orig/\u001b[39m\u001b[38;5;132;01m{\u001b[39;00mTICKER\u001b[38;5;132;01m}\u001b[39;00m\u001b[38;5;124m.png\u001b[39m\u001b[38;5;124m\"\u001b[39m))\n",
      "File \u001b[0;32m~/code/hu/src/sr_cli.py:204\u001b[0m, in \u001b[0;36mrun\u001b[0;34m(args)\u001b[0m\n\u001b[1;32m    202\u001b[0m args\u001b[38;5;241m.\u001b[39mdif \u001b[38;5;241m=\u001b[39m dif\n\u001b[1;32m    203\u001b[0m args\u001b[38;5;241m.\u001b[39mnumber \u001b[38;5;241m=\u001b[39m num\n\u001b[0;32m--> 204\u001b[0m [outfile, covered] \u001b[38;5;241m=\u001b[39m \u001b[43mdraw_chart\u001b[49m\u001b[43m(\u001b[49m\u001b[43mticker_df\u001b[49m\u001b[43m,\u001b[49m\u001b[43m \u001b[49m\u001b[43margs\u001b[49m\u001b[43m)\u001b[49m\n\u001b[1;32m    205\u001b[0m \u001b[38;5;28;01mif\u001b[39;00m os\u001b[38;5;241m.\u001b[39mpath\u001b[38;5;241m.\u001b[39mexists(outfile):\n\u001b[1;32m    206\u001b[0m     new \u001b[38;5;241m=\u001b[39m Image\u001b[38;5;241m.\u001b[39mopen(outfile)\u001b[38;5;241m.\u001b[39mconvert(\u001b[38;5;124m'\u001b[39m\u001b[38;5;124mRGB\u001b[39m\u001b[38;5;124m'\u001b[39m)\n",
      "File \u001b[0;32m~/code/hu/src/utils.py:376\u001b[0m, in \u001b[0;36mdraw_chart\u001b[0;34m(ticker_df, args, sample)\u001b[0m\n\u001b[1;32m    373\u001b[0m for a in axs:\n\u001b[1;32m    374\u001b[0m     a.xaxis.set_major_formatter(ti.FuncFormatter(mydate))\n\u001b[0;32m--> 376\u001b[0m # get_error2(ticker_df, SOURCE_LINES[args.ticker])\n\u001b[1;32m    378\u001b[0m if args.optimize:\n\u001b[1;32m    379\u001b[0m     plt.savefig(outfile)\n",
      "\u001b[0;31mUnboundLocalError\u001b[0m: local variable 'sample_boxes' referenced before assignment"
     ]
    },
    {
     "data": {
      "image/png": "[encoded data removed]",
      "text/plain": [
       "<Figure size 1080x576 with 1 Axes>"
      ]
     },
     "metadata": {},
     "output_type": "display_data"
    }
   ],
   "source": [
    "%reload_ext autoreload\n",
    "%autoreload 2\n",
    "%matplotlib inline\n",
    "import pandas as pd\n",
    "from IPython.display import display, HTML\n",
    "from sr_cli import run\n",
    "\n",
    "# TICKERS=['ARKK', 'ROKU', 'SHOP', 'TSLA', 'UPWK', 'ZM']\n",
    "TICKER = 'TSLA'\n",
    "  \n",
    "class Args:\n",
    "    no_sr_lines = False\n",
    "    tickers=TICKER\n",
    "    period='5y'\n",
    "    interval='1d'\n",
    "    start_date='2021-11-01'\n",
    "    stop_date='2022-06-17'\n",
    "    dif=10.0\n",
    "    retracement_size=5\n",
    "    no_candles=True\n",
    "    draw_boxes=True\n",
    "    number=2\n",
    "    empty_boxes=False\n",
    "    sample_only=False\n",
    "    show_zags=False\n",
    "    min=10\n",
    "    optimize=False\n",
    "    time=365\n",
    "    verbose=False\n",
    "    filter=False\n",
    "    side_by_side=False\n",
    "\n",
    "args=Args()\n",
    "args.optimize = True\n",
    "\n",
    "run(args)\n",
    "\n",
    "from IPython.display import Image, display\n",
    "display(Image(f\"data/orig/{TICKER}.png\"))"
   ]
  },
  {
   "cell_type": "code",
   "execution_count": null,
   "id": "a031b34b-9ff2-4f5b-907e-52c6c0635650",
   "metadata": {},
   "outputs": [],
   "source": [
    "df = pd.read_csv('data/samples.csv')\n",
    "df = df[df.symbol == TICKER]\n",
    "sfile = f\"data/samples/{TICKER}.png\"\n",
    "df.loc[:, 'source'] = f'<img height=400 width=800 src=\"out/samples/{TICKER}.png\" alt=\"img2\">'\n",
    "df.loc[:, 'img'] = df.outfile.apply(lambda x:  f'<img height=400 width=800 src=\"{x}\" alt=\"img\">')\n",
    "display(HTML(\"<style>div.output_scroll { height: 80em; }</style>\"))\n",
    "sortdf = df[['symbol', 'dif', 'ret', 'err', 'img', 'source']].sort_values(by=['err'])\n",
    "# sortdf = sortdf[sortdf.err < 30]\n",
    "sortdf = sortdf[sortdf.ret < 15]\n",
    "sortdf = sortdf[sortdf.dif < 15]\n",
    "display(HTML(sortdf.to_html(index=False, escape=False)))\n",
    "\n",
    "# df.loc[:, 'source'] = f'<img height=400 width=800 src=\"{sfile}\" alt=\"img2\">'\n",
    "# df.loc[:, 'img'] = df.outfile.apply(lambda x:  f'<img height=400 width=800 src=\"{x}\" alt=\"img\">')\n",
    "# sortdf = sortdf[(sortdf.dif >= 10.0) & (sortdf.ret == 5.0)]"
   ]
  },
  {
   "cell_type": "code",
   "execution_count": null,
   "id": "a9d773f2",
   "metadata": {},
   "outputs": [],
   "source": []
  }
 ],
 "metadata": {
  "kernelspec": {
   "display_name": "Python 3",
   "language": "python",
   "name": "python3"
  },
  "language_info": {
   "codemirror_mode": {
    "name": "ipython",
    "version": 3
   },
   "file_extension": ".py",
   "mimetype": "text/x-python",
   "name": "python",
   "nbconvert_exporter": "python",
   "pygments_lexer": "ipython3",
   "version": "3.8.11"
  }
 },
 "nbformat": 4,
 "nbformat_minor": 5
}
